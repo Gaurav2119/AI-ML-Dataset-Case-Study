{
 "cells": [
  {
   "cell_type": "code",
   "execution_count": 1,
   "id": "9e5946ba",
   "metadata": {
    "ExecuteTime": {
     "end_time": "2022-07-21T19:46:13.796825Z",
     "start_time": "2022-07-21T19:46:07.756304Z"
    }
   },
   "outputs": [],
   "source": [
    "import numpy as np\n",
    "import pandas as pd"
   ]
  },
  {
   "cell_type": "markdown",
   "id": "84d5826e",
   "metadata": {},
   "source": [
    "### Reading dataset"
   ]
  },
  {
   "cell_type": "code",
   "execution_count": 2,
   "id": "7de0d3e3",
   "metadata": {
    "ExecuteTime": {
     "end_time": "2022-07-21T19:46:51.425581Z",
     "start_time": "2022-07-21T19:46:50.312768Z"
    }
   },
   "outputs": [
    {
     "data": {
      "text/html": [
       "<div>\n",
       "<style scoped>\n",
       "    .dataframe tbody tr th:only-of-type {\n",
       "        vertical-align: middle;\n",
       "    }\n",
       "\n",
       "    .dataframe tbody tr th {\n",
       "        vertical-align: top;\n",
       "    }\n",
       "\n",
       "    .dataframe thead th {\n",
       "        text-align: right;\n",
       "    }\n",
       "</style>\n",
       "<table border=\"1\" class=\"dataframe\">\n",
       "  <thead>\n",
       "    <tr style=\"text-align: right;\">\n",
       "      <th></th>\n",
       "      <th>patient_nbr</th>\n",
       "      <th>race</th>\n",
       "      <th>gender</th>\n",
       "      <th>age</th>\n",
       "      <th>admission_type_id</th>\n",
       "      <th>discharge_disposition_id</th>\n",
       "      <th>admission_source_id</th>\n",
       "      <th>time_in_hospital</th>\n",
       "      <th>num_lab_procedures</th>\n",
       "      <th>num_procedures</th>\n",
       "      <th>num_medications</th>\n",
       "      <th>number_outpatient</th>\n",
       "      <th>number_emergency</th>\n",
       "      <th>number_inpatient</th>\n",
       "      <th>diag_1</th>\n",
       "      <th>diag_2</th>\n",
       "      <th>diag_3</th>\n",
       "      <th>number_diagnoses</th>\n",
       "      <th>change</th>\n",
       "      <th>diabatic</th>\n",
       "    </tr>\n",
       "  </thead>\n",
       "  <tbody>\n",
       "    <tr>\n",
       "      <th>0</th>\n",
       "      <td>8222157</td>\n",
       "      <td>Caucasian</td>\n",
       "      <td>Female</td>\n",
       "      <td>[0-10)</td>\n",
       "      <td>6</td>\n",
       "      <td>25</td>\n",
       "      <td>1</td>\n",
       "      <td>1</td>\n",
       "      <td>41</td>\n",
       "      <td>0</td>\n",
       "      <td>1</td>\n",
       "      <td>0</td>\n",
       "      <td>0</td>\n",
       "      <td>0</td>\n",
       "      <td>250.83</td>\n",
       "      <td>?</td>\n",
       "      <td>?</td>\n",
       "      <td>1</td>\n",
       "      <td>No</td>\n",
       "      <td>No</td>\n",
       "    </tr>\n",
       "    <tr>\n",
       "      <th>1</th>\n",
       "      <td>55629189</td>\n",
       "      <td>Caucasian</td>\n",
       "      <td>Female</td>\n",
       "      <td>[10-20)</td>\n",
       "      <td>1</td>\n",
       "      <td>1</td>\n",
       "      <td>7</td>\n",
       "      <td>3</td>\n",
       "      <td>59</td>\n",
       "      <td>0</td>\n",
       "      <td>18</td>\n",
       "      <td>0</td>\n",
       "      <td>0</td>\n",
       "      <td>0</td>\n",
       "      <td>276</td>\n",
       "      <td>250.01</td>\n",
       "      <td>255</td>\n",
       "      <td>9</td>\n",
       "      <td>Ch</td>\n",
       "      <td>Yes</td>\n",
       "    </tr>\n",
       "    <tr>\n",
       "      <th>2</th>\n",
       "      <td>86047875</td>\n",
       "      <td>AfricanAmerican</td>\n",
       "      <td>Female</td>\n",
       "      <td>[20-30)</td>\n",
       "      <td>1</td>\n",
       "      <td>1</td>\n",
       "      <td>7</td>\n",
       "      <td>2</td>\n",
       "      <td>11</td>\n",
       "      <td>5</td>\n",
       "      <td>13</td>\n",
       "      <td>2</td>\n",
       "      <td>0</td>\n",
       "      <td>1</td>\n",
       "      <td>648</td>\n",
       "      <td>250</td>\n",
       "      <td>V27</td>\n",
       "      <td>6</td>\n",
       "      <td>No</td>\n",
       "      <td>Yes</td>\n",
       "    </tr>\n",
       "    <tr>\n",
       "      <th>3</th>\n",
       "      <td>82442376</td>\n",
       "      <td>Caucasian</td>\n",
       "      <td>Male</td>\n",
       "      <td>[30-40)</td>\n",
       "      <td>1</td>\n",
       "      <td>1</td>\n",
       "      <td>7</td>\n",
       "      <td>2</td>\n",
       "      <td>44</td>\n",
       "      <td>1</td>\n",
       "      <td>16</td>\n",
       "      <td>0</td>\n",
       "      <td>0</td>\n",
       "      <td>0</td>\n",
       "      <td>8</td>\n",
       "      <td>250.43</td>\n",
       "      <td>403</td>\n",
       "      <td>7</td>\n",
       "      <td>Ch</td>\n",
       "      <td>Yes</td>\n",
       "    </tr>\n",
       "    <tr>\n",
       "      <th>4</th>\n",
       "      <td>42519267</td>\n",
       "      <td>Caucasian</td>\n",
       "      <td>Male</td>\n",
       "      <td>[40-50)</td>\n",
       "      <td>1</td>\n",
       "      <td>1</td>\n",
       "      <td>7</td>\n",
       "      <td>1</td>\n",
       "      <td>51</td>\n",
       "      <td>0</td>\n",
       "      <td>8</td>\n",
       "      <td>0</td>\n",
       "      <td>0</td>\n",
       "      <td>0</td>\n",
       "      <td>197</td>\n",
       "      <td>157</td>\n",
       "      <td>250</td>\n",
       "      <td>5</td>\n",
       "      <td>Ch</td>\n",
       "      <td>Yes</td>\n",
       "    </tr>\n",
       "    <tr>\n",
       "      <th>5</th>\n",
       "      <td>82637451</td>\n",
       "      <td>Caucasian</td>\n",
       "      <td>Male</td>\n",
       "      <td>[50-60)</td>\n",
       "      <td>2</td>\n",
       "      <td>1</td>\n",
       "      <td>2</td>\n",
       "      <td>3</td>\n",
       "      <td>31</td>\n",
       "      <td>6</td>\n",
       "      <td>16</td>\n",
       "      <td>0</td>\n",
       "      <td>0</td>\n",
       "      <td>0</td>\n",
       "      <td>414</td>\n",
       "      <td>411</td>\n",
       "      <td>250</td>\n",
       "      <td>9</td>\n",
       "      <td>No</td>\n",
       "      <td>Yes</td>\n",
       "    </tr>\n",
       "    <tr>\n",
       "      <th>6</th>\n",
       "      <td>84259809</td>\n",
       "      <td>Caucasian</td>\n",
       "      <td>Male</td>\n",
       "      <td>[60-70)</td>\n",
       "      <td>3</td>\n",
       "      <td>1</td>\n",
       "      <td>2</td>\n",
       "      <td>4</td>\n",
       "      <td>70</td>\n",
       "      <td>1</td>\n",
       "      <td>21</td>\n",
       "      <td>0</td>\n",
       "      <td>0</td>\n",
       "      <td>0</td>\n",
       "      <td>414</td>\n",
       "      <td>411</td>\n",
       "      <td>V45</td>\n",
       "      <td>7</td>\n",
       "      <td>Ch</td>\n",
       "      <td>Yes</td>\n",
       "    </tr>\n",
       "    <tr>\n",
       "      <th>7</th>\n",
       "      <td>114882984</td>\n",
       "      <td>Caucasian</td>\n",
       "      <td>Male</td>\n",
       "      <td>[70-80)</td>\n",
       "      <td>1</td>\n",
       "      <td>1</td>\n",
       "      <td>7</td>\n",
       "      <td>5</td>\n",
       "      <td>73</td>\n",
       "      <td>0</td>\n",
       "      <td>12</td>\n",
       "      <td>0</td>\n",
       "      <td>0</td>\n",
       "      <td>0</td>\n",
       "      <td>428</td>\n",
       "      <td>492</td>\n",
       "      <td>250</td>\n",
       "      <td>8</td>\n",
       "      <td>No</td>\n",
       "      <td>Yes</td>\n",
       "    </tr>\n",
       "    <tr>\n",
       "      <th>8</th>\n",
       "      <td>48330783</td>\n",
       "      <td>Caucasian</td>\n",
       "      <td>Female</td>\n",
       "      <td>[80-90)</td>\n",
       "      <td>2</td>\n",
       "      <td>1</td>\n",
       "      <td>4</td>\n",
       "      <td>13</td>\n",
       "      <td>68</td>\n",
       "      <td>2</td>\n",
       "      <td>28</td>\n",
       "      <td>0</td>\n",
       "      <td>0</td>\n",
       "      <td>0</td>\n",
       "      <td>398</td>\n",
       "      <td>427</td>\n",
       "      <td>38</td>\n",
       "      <td>8</td>\n",
       "      <td>Ch</td>\n",
       "      <td>Yes</td>\n",
       "    </tr>\n",
       "    <tr>\n",
       "      <th>9</th>\n",
       "      <td>63555939</td>\n",
       "      <td>Caucasian</td>\n",
       "      <td>Female</td>\n",
       "      <td>[90-100)</td>\n",
       "      <td>3</td>\n",
       "      <td>3</td>\n",
       "      <td>4</td>\n",
       "      <td>12</td>\n",
       "      <td>33</td>\n",
       "      <td>3</td>\n",
       "      <td>18</td>\n",
       "      <td>0</td>\n",
       "      <td>0</td>\n",
       "      <td>0</td>\n",
       "      <td>434</td>\n",
       "      <td>198</td>\n",
       "      <td>486</td>\n",
       "      <td>8</td>\n",
       "      <td>Ch</td>\n",
       "      <td>Yes</td>\n",
       "    </tr>\n",
       "  </tbody>\n",
       "</table>\n",
       "</div>"
      ],
      "text/plain": [
       "   patient_nbr             race  gender       age  admission_type_id  \\\n",
       "0      8222157        Caucasian  Female    [0-10)                  6   \n",
       "1     55629189        Caucasian  Female   [10-20)                  1   \n",
       "2     86047875  AfricanAmerican  Female   [20-30)                  1   \n",
       "3     82442376        Caucasian    Male   [30-40)                  1   \n",
       "4     42519267        Caucasian    Male   [40-50)                  1   \n",
       "5     82637451        Caucasian    Male   [50-60)                  2   \n",
       "6     84259809        Caucasian    Male   [60-70)                  3   \n",
       "7    114882984        Caucasian    Male   [70-80)                  1   \n",
       "8     48330783        Caucasian  Female   [80-90)                  2   \n",
       "9     63555939        Caucasian  Female  [90-100)                  3   \n",
       "\n",
       "   discharge_disposition_id  admission_source_id  time_in_hospital  \\\n",
       "0                        25                    1                 1   \n",
       "1                         1                    7                 3   \n",
       "2                         1                    7                 2   \n",
       "3                         1                    7                 2   \n",
       "4                         1                    7                 1   \n",
       "5                         1                    2                 3   \n",
       "6                         1                    2                 4   \n",
       "7                         1                    7                 5   \n",
       "8                         1                    4                13   \n",
       "9                         3                    4                12   \n",
       "\n",
       "   num_lab_procedures  num_procedures  num_medications  number_outpatient  \\\n",
       "0                  41               0                1                  0   \n",
       "1                  59               0               18                  0   \n",
       "2                  11               5               13                  2   \n",
       "3                  44               1               16                  0   \n",
       "4                  51               0                8                  0   \n",
       "5                  31               6               16                  0   \n",
       "6                  70               1               21                  0   \n",
       "7                  73               0               12                  0   \n",
       "8                  68               2               28                  0   \n",
       "9                  33               3               18                  0   \n",
       "\n",
       "   number_emergency  number_inpatient  diag_1  diag_2 diag_3  \\\n",
       "0                 0                 0  250.83       ?      ?   \n",
       "1                 0                 0     276  250.01    255   \n",
       "2                 0                 1     648     250    V27   \n",
       "3                 0                 0       8  250.43    403   \n",
       "4                 0                 0     197     157    250   \n",
       "5                 0                 0     414     411    250   \n",
       "6                 0                 0     414     411    V45   \n",
       "7                 0                 0     428     492    250   \n",
       "8                 0                 0     398     427     38   \n",
       "9                 0                 0     434     198    486   \n",
       "\n",
       "   number_diagnoses change diabatic  \n",
       "0                 1     No       No  \n",
       "1                 9     Ch      Yes  \n",
       "2                 6     No      Yes  \n",
       "3                 7     Ch      Yes  \n",
       "4                 5     Ch      Yes  \n",
       "5                 9     No      Yes  \n",
       "6                 7     Ch      Yes  \n",
       "7                 8     No      Yes  \n",
       "8                 8     Ch      Yes  \n",
       "9                 8     Ch      Yes  "
      ]
     },
     "execution_count": 2,
     "metadata": {},
     "output_type": "execute_result"
    }
   ],
   "source": [
    "df = pd.read_csv('dataset_diabetes_diabetic_data.csv')\n",
    "df.head(10)"
   ]
  },
  {
   "cell_type": "code",
   "execution_count": 3,
   "id": "f5573479",
   "metadata": {
    "ExecuteTime": {
     "end_time": "2022-07-21T19:47:13.666539Z",
     "start_time": "2022-07-21T19:47:13.645553Z"
    }
   },
   "outputs": [
    {
     "data": {
      "text/plain": [
       "(70180, 20)"
      ]
     },
     "execution_count": 3,
     "metadata": {},
     "output_type": "execute_result"
    }
   ],
   "source": [
    "df.shape"
   ]
  },
  {
   "cell_type": "code",
   "execution_count": 4,
   "id": "3372cf40",
   "metadata": {
    "ExecuteTime": {
     "end_time": "2022-07-21T19:47:30.632572Z",
     "start_time": "2022-07-21T19:47:30.385090Z"
    }
   },
   "outputs": [
    {
     "name": "stdout",
     "output_type": "stream",
     "text": [
      "<class 'pandas.core.frame.DataFrame'>\n",
      "RangeIndex: 70180 entries, 0 to 70179\n",
      "Data columns (total 20 columns):\n",
      " #   Column                    Non-Null Count  Dtype \n",
      "---  ------                    --------------  ----- \n",
      " 0   patient_nbr               70180 non-null  int64 \n",
      " 1   race                      70180 non-null  object\n",
      " 2   gender                    70180 non-null  object\n",
      " 3   age                       70180 non-null  object\n",
      " 4   admission_type_id         70180 non-null  int64 \n",
      " 5   discharge_disposition_id  70180 non-null  int64 \n",
      " 6   admission_source_id       70180 non-null  int64 \n",
      " 7   time_in_hospital          70180 non-null  int64 \n",
      " 8   num_lab_procedures        70180 non-null  int64 \n",
      " 9   num_procedures            70180 non-null  int64 \n",
      " 10  num_medications           70180 non-null  int64 \n",
      " 11  number_outpatient         70180 non-null  int64 \n",
      " 12  number_emergency          70180 non-null  int64 \n",
      " 13  number_inpatient          70180 non-null  int64 \n",
      " 14  diag_1                    70180 non-null  object\n",
      " 15  diag_2                    70180 non-null  object\n",
      " 16  diag_3                    70180 non-null  object\n",
      " 17  number_diagnoses          70180 non-null  int64 \n",
      " 18  change                    70180 non-null  object\n",
      " 19  diabatic                  70180 non-null  object\n",
      "dtypes: int64(12), object(8)\n",
      "memory usage: 10.7+ MB\n"
     ]
    }
   ],
   "source": [
    "df.info()"
   ]
  },
  {
   "cell_type": "code",
   "execution_count": 6,
   "id": "d77befee",
   "metadata": {
    "ExecuteTime": {
     "end_time": "2022-07-21T19:48:17.124802Z",
     "start_time": "2022-07-21T19:48:16.942723Z"
    }
   },
   "outputs": [
    {
     "data": {
      "text/html": [
       "<div>\n",
       "<style scoped>\n",
       "    .dataframe tbody tr th:only-of-type {\n",
       "        vertical-align: middle;\n",
       "    }\n",
       "\n",
       "    .dataframe tbody tr th {\n",
       "        vertical-align: top;\n",
       "    }\n",
       "\n",
       "    .dataframe thead th {\n",
       "        text-align: right;\n",
       "    }\n",
       "</style>\n",
       "<table border=\"1\" class=\"dataframe\">\n",
       "  <thead>\n",
       "    <tr style=\"text-align: right;\">\n",
       "      <th></th>\n",
       "      <th>patient_nbr</th>\n",
       "      <th>admission_type_id</th>\n",
       "      <th>discharge_disposition_id</th>\n",
       "      <th>admission_source_id</th>\n",
       "      <th>time_in_hospital</th>\n",
       "      <th>num_lab_procedures</th>\n",
       "      <th>num_procedures</th>\n",
       "      <th>num_medications</th>\n",
       "      <th>number_outpatient</th>\n",
       "      <th>number_emergency</th>\n",
       "      <th>number_inpatient</th>\n",
       "      <th>number_diagnoses</th>\n",
       "    </tr>\n",
       "  </thead>\n",
       "  <tbody>\n",
       "    <tr>\n",
       "      <th>count</th>\n",
       "      <td>7.018000e+04</td>\n",
       "      <td>70180.000000</td>\n",
       "      <td>70180.000000</td>\n",
       "      <td>70180.000000</td>\n",
       "      <td>70180.000000</td>\n",
       "      <td>70180.000000</td>\n",
       "      <td>70180.000000</td>\n",
       "      <td>70180.000000</td>\n",
       "      <td>70180.000000</td>\n",
       "      <td>70180.000000</td>\n",
       "      <td>70180.00000</td>\n",
       "      <td>70180.000000</td>\n",
       "    </tr>\n",
       "    <tr>\n",
       "      <th>mean</th>\n",
       "      <td>4.589563e+07</td>\n",
       "      <td>2.121730</td>\n",
       "      <td>3.981305</td>\n",
       "      <td>5.926404</td>\n",
       "      <td>4.439370</td>\n",
       "      <td>42.670020</td>\n",
       "      <td>1.350043</td>\n",
       "      <td>15.338772</td>\n",
       "      <td>0.294543</td>\n",
       "      <td>0.156312</td>\n",
       "      <td>0.60513</td>\n",
       "      <td>7.154104</td>\n",
       "    </tr>\n",
       "    <tr>\n",
       "      <th>std</th>\n",
       "      <td>3.707033e+07</td>\n",
       "      <td>1.532443</td>\n",
       "      <td>5.657360</td>\n",
       "      <td>4.424962</td>\n",
       "      <td>3.032789</td>\n",
       "      <td>19.197482</td>\n",
       "      <td>1.683676</td>\n",
       "      <td>8.071803</td>\n",
       "      <td>1.052725</td>\n",
       "      <td>0.722395</td>\n",
       "      <td>1.22914</td>\n",
       "      <td>1.992406</td>\n",
       "    </tr>\n",
       "    <tr>\n",
       "      <th>min</th>\n",
       "      <td>1.350000e+02</td>\n",
       "      <td>1.000000</td>\n",
       "      <td>1.000000</td>\n",
       "      <td>1.000000</td>\n",
       "      <td>1.000000</td>\n",
       "      <td>1.000000</td>\n",
       "      <td>0.000000</td>\n",
       "      <td>1.000000</td>\n",
       "      <td>0.000000</td>\n",
       "      <td>0.000000</td>\n",
       "      <td>0.00000</td>\n",
       "      <td>1.000000</td>\n",
       "    </tr>\n",
       "    <tr>\n",
       "      <th>25%</th>\n",
       "      <td>1.521589e+07</td>\n",
       "      <td>1.000000</td>\n",
       "      <td>1.000000</td>\n",
       "      <td>1.000000</td>\n",
       "      <td>2.000000</td>\n",
       "      <td>31.000000</td>\n",
       "      <td>0.000000</td>\n",
       "      <td>10.000000</td>\n",
       "      <td>0.000000</td>\n",
       "      <td>0.000000</td>\n",
       "      <td>0.00000</td>\n",
       "      <td>5.000000</td>\n",
       "    </tr>\n",
       "    <tr>\n",
       "      <th>50%</th>\n",
       "      <td>3.572850e+07</td>\n",
       "      <td>1.000000</td>\n",
       "      <td>1.000000</td>\n",
       "      <td>7.000000</td>\n",
       "      <td>4.000000</td>\n",
       "      <td>44.000000</td>\n",
       "      <td>1.000000</td>\n",
       "      <td>14.000000</td>\n",
       "      <td>0.000000</td>\n",
       "      <td>0.000000</td>\n",
       "      <td>0.00000</td>\n",
       "      <td>8.000000</td>\n",
       "    </tr>\n",
       "    <tr>\n",
       "      <th>75%</th>\n",
       "      <td>8.317725e+07</td>\n",
       "      <td>3.000000</td>\n",
       "      <td>5.000000</td>\n",
       "      <td>7.000000</td>\n",
       "      <td>6.000000</td>\n",
       "      <td>56.000000</td>\n",
       "      <td>2.000000</td>\n",
       "      <td>19.000000</td>\n",
       "      <td>0.000000</td>\n",
       "      <td>0.000000</td>\n",
       "      <td>1.00000</td>\n",
       "      <td>9.000000</td>\n",
       "    </tr>\n",
       "    <tr>\n",
       "      <th>max</th>\n",
       "      <td>1.893511e+08</td>\n",
       "      <td>8.000000</td>\n",
       "      <td>28.000000</td>\n",
       "      <td>20.000000</td>\n",
       "      <td>14.000000</td>\n",
       "      <td>129.000000</td>\n",
       "      <td>6.000000</td>\n",
       "      <td>81.000000</td>\n",
       "      <td>36.000000</td>\n",
       "      <td>64.000000</td>\n",
       "      <td>21.00000</td>\n",
       "      <td>16.000000</td>\n",
       "    </tr>\n",
       "  </tbody>\n",
       "</table>\n",
       "</div>"
      ],
      "text/plain": [
       "        patient_nbr  admission_type_id  discharge_disposition_id  \\\n",
       "count  7.018000e+04       70180.000000              70180.000000   \n",
       "mean   4.589563e+07           2.121730                  3.981305   \n",
       "std    3.707033e+07           1.532443                  5.657360   \n",
       "min    1.350000e+02           1.000000                  1.000000   \n",
       "25%    1.521589e+07           1.000000                  1.000000   \n",
       "50%    3.572850e+07           1.000000                  1.000000   \n",
       "75%    8.317725e+07           3.000000                  5.000000   \n",
       "max    1.893511e+08           8.000000                 28.000000   \n",
       "\n",
       "       admission_source_id  time_in_hospital  num_lab_procedures  \\\n",
       "count         70180.000000      70180.000000        70180.000000   \n",
       "mean              5.926404          4.439370           42.670020   \n",
       "std               4.424962          3.032789           19.197482   \n",
       "min               1.000000          1.000000            1.000000   \n",
       "25%               1.000000          2.000000           31.000000   \n",
       "50%               7.000000          4.000000           44.000000   \n",
       "75%               7.000000          6.000000           56.000000   \n",
       "max              20.000000         14.000000          129.000000   \n",
       "\n",
       "       num_procedures  num_medications  number_outpatient  number_emergency  \\\n",
       "count    70180.000000     70180.000000       70180.000000      70180.000000   \n",
       "mean         1.350043        15.338772           0.294543          0.156312   \n",
       "std          1.683676         8.071803           1.052725          0.722395   \n",
       "min          0.000000         1.000000           0.000000          0.000000   \n",
       "25%          0.000000        10.000000           0.000000          0.000000   \n",
       "50%          1.000000        14.000000           0.000000          0.000000   \n",
       "75%          2.000000        19.000000           0.000000          0.000000   \n",
       "max          6.000000        81.000000          36.000000         64.000000   \n",
       "\n",
       "       number_inpatient  number_diagnoses  \n",
       "count       70180.00000      70180.000000  \n",
       "mean            0.60513          7.154104  \n",
       "std             1.22914          1.992406  \n",
       "min             0.00000          1.000000  \n",
       "25%             0.00000          5.000000  \n",
       "50%             0.00000          8.000000  \n",
       "75%             1.00000          9.000000  \n",
       "max            21.00000         16.000000  "
      ]
     },
     "execution_count": 6,
     "metadata": {},
     "output_type": "execute_result"
    }
   ],
   "source": [
    "df.describe()"
   ]
  },
  {
   "cell_type": "markdown",
   "id": "b2071d56",
   "metadata": {},
   "source": [
    "### Checking for the null values"
   ]
  },
  {
   "cell_type": "code",
   "execution_count": 5,
   "id": "12e2ff5a",
   "metadata": {
    "ExecuteTime": {
     "end_time": "2022-07-21T19:47:49.522824Z",
     "start_time": "2022-07-21T19:47:49.341933Z"
    }
   },
   "outputs": [
    {
     "data": {
      "text/plain": [
       "patient_nbr                 0\n",
       "race                        0\n",
       "gender                      0\n",
       "age                         0\n",
       "admission_type_id           0\n",
       "discharge_disposition_id    0\n",
       "admission_source_id         0\n",
       "time_in_hospital            0\n",
       "num_lab_procedures          0\n",
       "num_procedures              0\n",
       "num_medications             0\n",
       "number_outpatient           0\n",
       "number_emergency            0\n",
       "number_inpatient            0\n",
       "diag_1                      0\n",
       "diag_2                      0\n",
       "diag_3                      0\n",
       "number_diagnoses            0\n",
       "change                      0\n",
       "diabatic                    0\n",
       "dtype: int64"
      ]
     },
     "execution_count": 5,
     "metadata": {},
     "output_type": "execute_result"
    }
   ],
   "source": [
    "df.isnull().sum()"
   ]
  },
  {
   "cell_type": "markdown",
   "id": "53b498e4",
   "metadata": {},
   "source": [
    "### Droping meaningless Column and missing values i.e., ?"
   ]
  },
  {
   "cell_type": "code",
   "execution_count": 7,
   "id": "e71a58fc",
   "metadata": {
    "ExecuteTime": {
     "end_time": "2022-07-21T19:54:33.473955Z",
     "start_time": "2022-07-21T19:54:33.218158Z"
    }
   },
   "outputs": [
    {
     "data": {
      "text/plain": [
       "patient_nbr                 52500\n",
       "race                            6\n",
       "gender                          3\n",
       "age                            10\n",
       "admission_type_id               8\n",
       "discharge_disposition_id       26\n",
       "admission_source_id            13\n",
       "time_in_hospital               14\n",
       "num_lab_procedures            116\n",
       "num_procedures                  7\n",
       "num_medications                74\n",
       "number_outpatient              29\n",
       "number_emergency               19\n",
       "number_inpatient               21\n",
       "diag_1                        685\n",
       "diag_2                        702\n",
       "diag_3                        727\n",
       "number_diagnoses               16\n",
       "change                          2\n",
       "diabatic                        2\n",
       "dtype: int64"
      ]
     },
     "execution_count": 7,
     "metadata": {},
     "output_type": "execute_result"
    }
   ],
   "source": [
    "df.nunique()"
   ]
  },
  {
   "cell_type": "code",
   "execution_count": 8,
   "id": "13eaf576",
   "metadata": {
    "ExecuteTime": {
     "end_time": "2022-07-21T19:56:30.547581Z",
     "start_time": "2022-07-21T19:56:30.458635Z"
    }
   },
   "outputs": [
    {
     "data": {
      "text/html": [
       "<div>\n",
       "<style scoped>\n",
       "    .dataframe tbody tr th:only-of-type {\n",
       "        vertical-align: middle;\n",
       "    }\n",
       "\n",
       "    .dataframe tbody tr th {\n",
       "        vertical-align: top;\n",
       "    }\n",
       "\n",
       "    .dataframe thead th {\n",
       "        text-align: right;\n",
       "    }\n",
       "</style>\n",
       "<table border=\"1\" class=\"dataframe\">\n",
       "  <thead>\n",
       "    <tr style=\"text-align: right;\">\n",
       "      <th></th>\n",
       "      <th>race</th>\n",
       "      <th>gender</th>\n",
       "      <th>age</th>\n",
       "      <th>admission_type_id</th>\n",
       "      <th>discharge_disposition_id</th>\n",
       "      <th>admission_source_id</th>\n",
       "      <th>time_in_hospital</th>\n",
       "      <th>num_lab_procedures</th>\n",
       "      <th>num_procedures</th>\n",
       "      <th>num_medications</th>\n",
       "      <th>number_outpatient</th>\n",
       "      <th>number_emergency</th>\n",
       "      <th>number_inpatient</th>\n",
       "      <th>number_diagnoses</th>\n",
       "      <th>change</th>\n",
       "      <th>diabatic</th>\n",
       "    </tr>\n",
       "  </thead>\n",
       "  <tbody>\n",
       "    <tr>\n",
       "      <th>0</th>\n",
       "      <td>Caucasian</td>\n",
       "      <td>Female</td>\n",
       "      <td>[0-10)</td>\n",
       "      <td>6</td>\n",
       "      <td>25</td>\n",
       "      <td>1</td>\n",
       "      <td>1</td>\n",
       "      <td>41</td>\n",
       "      <td>0</td>\n",
       "      <td>1</td>\n",
       "      <td>0</td>\n",
       "      <td>0</td>\n",
       "      <td>0</td>\n",
       "      <td>1</td>\n",
       "      <td>No</td>\n",
       "      <td>No</td>\n",
       "    </tr>\n",
       "    <tr>\n",
       "      <th>1</th>\n",
       "      <td>Caucasian</td>\n",
       "      <td>Female</td>\n",
       "      <td>[10-20)</td>\n",
       "      <td>1</td>\n",
       "      <td>1</td>\n",
       "      <td>7</td>\n",
       "      <td>3</td>\n",
       "      <td>59</td>\n",
       "      <td>0</td>\n",
       "      <td>18</td>\n",
       "      <td>0</td>\n",
       "      <td>0</td>\n",
       "      <td>0</td>\n",
       "      <td>9</td>\n",
       "      <td>Ch</td>\n",
       "      <td>Yes</td>\n",
       "    </tr>\n",
       "    <tr>\n",
       "      <th>2</th>\n",
       "      <td>AfricanAmerican</td>\n",
       "      <td>Female</td>\n",
       "      <td>[20-30)</td>\n",
       "      <td>1</td>\n",
       "      <td>1</td>\n",
       "      <td>7</td>\n",
       "      <td>2</td>\n",
       "      <td>11</td>\n",
       "      <td>5</td>\n",
       "      <td>13</td>\n",
       "      <td>2</td>\n",
       "      <td>0</td>\n",
       "      <td>1</td>\n",
       "      <td>6</td>\n",
       "      <td>No</td>\n",
       "      <td>Yes</td>\n",
       "    </tr>\n",
       "    <tr>\n",
       "      <th>3</th>\n",
       "      <td>Caucasian</td>\n",
       "      <td>Male</td>\n",
       "      <td>[30-40)</td>\n",
       "      <td>1</td>\n",
       "      <td>1</td>\n",
       "      <td>7</td>\n",
       "      <td>2</td>\n",
       "      <td>44</td>\n",
       "      <td>1</td>\n",
       "      <td>16</td>\n",
       "      <td>0</td>\n",
       "      <td>0</td>\n",
       "      <td>0</td>\n",
       "      <td>7</td>\n",
       "      <td>Ch</td>\n",
       "      <td>Yes</td>\n",
       "    </tr>\n",
       "    <tr>\n",
       "      <th>4</th>\n",
       "      <td>Caucasian</td>\n",
       "      <td>Male</td>\n",
       "      <td>[40-50)</td>\n",
       "      <td>1</td>\n",
       "      <td>1</td>\n",
       "      <td>7</td>\n",
       "      <td>1</td>\n",
       "      <td>51</td>\n",
       "      <td>0</td>\n",
       "      <td>8</td>\n",
       "      <td>0</td>\n",
       "      <td>0</td>\n",
       "      <td>0</td>\n",
       "      <td>5</td>\n",
       "      <td>Ch</td>\n",
       "      <td>Yes</td>\n",
       "    </tr>\n",
       "  </tbody>\n",
       "</table>\n",
       "</div>"
      ],
      "text/plain": [
       "              race  gender      age  admission_type_id  \\\n",
       "0        Caucasian  Female   [0-10)                  6   \n",
       "1        Caucasian  Female  [10-20)                  1   \n",
       "2  AfricanAmerican  Female  [20-30)                  1   \n",
       "3        Caucasian    Male  [30-40)                  1   \n",
       "4        Caucasian    Male  [40-50)                  1   \n",
       "\n",
       "   discharge_disposition_id  admission_source_id  time_in_hospital  \\\n",
       "0                        25                    1                 1   \n",
       "1                         1                    7                 3   \n",
       "2                         1                    7                 2   \n",
       "3                         1                    7                 2   \n",
       "4                         1                    7                 1   \n",
       "\n",
       "   num_lab_procedures  num_procedures  num_medications  number_outpatient  \\\n",
       "0                  41               0                1                  0   \n",
       "1                  59               0               18                  0   \n",
       "2                  11               5               13                  2   \n",
       "3                  44               1               16                  0   \n",
       "4                  51               0                8                  0   \n",
       "\n",
       "   number_emergency  number_inpatient  number_diagnoses change diabatic  \n",
       "0                 0                 0                 1     No       No  \n",
       "1                 0                 0                 9     Ch      Yes  \n",
       "2                 0                 1                 6     No      Yes  \n",
       "3                 0                 0                 7     Ch      Yes  \n",
       "4                 0                 0                 5     Ch      Yes  "
      ]
     },
     "execution_count": 8,
     "metadata": {},
     "output_type": "execute_result"
    }
   ],
   "source": [
    "df.drop(columns=['patient_nbr', 'diag_1','diag_2','diag_3'],axis=1, inplace=True)\n",
    "df.head()"
   ]
  },
  {
   "cell_type": "code",
   "execution_count": 9,
   "id": "0a86e749",
   "metadata": {
    "ExecuteTime": {
     "end_time": "2022-07-21T19:58:01.943749Z",
     "start_time": "2022-07-21T19:58:01.934751Z"
    }
   },
   "outputs": [
    {
     "data": {
      "text/plain": [
       "(70180, 16)"
      ]
     },
     "execution_count": 9,
     "metadata": {},
     "output_type": "execute_result"
    }
   ],
   "source": [
    "df.shape"
   ]
  },
  {
   "cell_type": "code",
   "execution_count": 10,
   "id": "224df682",
   "metadata": {
    "ExecuteTime": {
     "end_time": "2022-07-21T20:03:08.312698Z",
     "start_time": "2022-07-21T20:03:08.278715Z"
    }
   },
   "outputs": [
    {
     "data": {
      "text/plain": [
       "Caucasian          51123\n",
       "AfricanAmerican    15008\n",
       "?                   1461\n",
       "Hispanic            1341\n",
       "Other                874\n",
       "Asian                373\n",
       "Name: race, dtype: int64"
      ]
     },
     "execution_count": 10,
     "metadata": {},
     "output_type": "execute_result"
    }
   ],
   "source": [
    "df['race'].value_counts()"
   ]
  },
  {
   "cell_type": "code",
   "execution_count": 11,
   "id": "b238d915",
   "metadata": {
    "ExecuteTime": {
     "end_time": "2022-07-21T20:03:54.039644Z",
     "start_time": "2022-07-21T20:03:53.854860Z"
    }
   },
   "outputs": [],
   "source": [
    "df=df.drop_duplicates()"
   ]
  },
  {
   "cell_type": "code",
   "execution_count": 13,
   "id": "5e4368e0",
   "metadata": {
    "ExecuteTime": {
     "end_time": "2022-07-21T20:04:04.691759Z",
     "start_time": "2022-07-21T20:04:04.671771Z"
    }
   },
   "outputs": [
    {
     "data": {
      "text/plain": [
       "(70158, 16)"
      ]
     },
     "execution_count": 13,
     "metadata": {},
     "output_type": "execute_result"
    }
   ],
   "source": [
    "df.shape"
   ]
  },
  {
   "cell_type": "code",
   "execution_count": 14,
   "id": "c4fe8d03",
   "metadata": {
    "ExecuteTime": {
     "end_time": "2022-07-21T20:09:44.555293Z",
     "start_time": "2022-07-21T20:09:15.541884Z"
    }
   },
   "outputs": [],
   "source": [
    "lst=list(df[((df.race == '?'))].index)\n",
    "for i in lst:\n",
    "    df=df.drop(i)"
   ]
  },
  {
   "cell_type": "code",
   "execution_count": 15,
   "id": "dba4fe0b",
   "metadata": {
    "ExecuteTime": {
     "end_time": "2022-07-21T20:09:44.571288Z",
     "start_time": "2022-07-21T20:09:44.560295Z"
    }
   },
   "outputs": [
    {
     "data": {
      "text/plain": [
       "(68697, 16)"
      ]
     },
     "execution_count": 15,
     "metadata": {},
     "output_type": "execute_result"
    }
   ],
   "source": [
    "df.shape"
   ]
  },
  {
   "cell_type": "markdown",
   "id": "d6372eaa",
   "metadata": {},
   "source": [
    "### Splitting data into Categorical and Numerical"
   ]
  },
  {
   "cell_type": "code",
   "execution_count": 16,
   "id": "246d6f44",
   "metadata": {
    "ExecuteTime": {
     "end_time": "2022-07-21T20:11:18.149132Z",
     "start_time": "2022-07-21T20:11:18.134138Z"
    }
   },
   "outputs": [],
   "source": [
    "df_numeric = pd.DataFrame()\n",
    "df_categ = pd.DataFrame()"
   ]
  },
  {
   "cell_type": "code",
   "execution_count": 17,
   "id": "605d1739",
   "metadata": {
    "ExecuteTime": {
     "end_time": "2022-07-21T20:12:50.234785Z",
     "start_time": "2022-07-21T20:12:50.181823Z"
    }
   },
   "outputs": [],
   "source": [
    "for col in df.columns:\n",
    "    if df[col].dtype==object:\n",
    "        df_categ[col] = df[col]\n",
    "    else:\n",
    "        df_numeric[col] = df[col]"
   ]
  },
  {
   "cell_type": "markdown",
   "id": "cfa22bb5",
   "metadata": {},
   "source": [
    "### Correlation"
   ]
  },
  {
   "cell_type": "code",
   "execution_count": 18,
   "id": "2ee2632e",
   "metadata": {
    "ExecuteTime": {
     "end_time": "2022-07-21T20:13:39.389164Z",
     "start_time": "2022-07-21T20:13:39.223265Z"
    }
   },
   "outputs": [
    {
     "data": {
      "text/html": [
       "<div>\n",
       "<style scoped>\n",
       "    .dataframe tbody tr th:only-of-type {\n",
       "        vertical-align: middle;\n",
       "    }\n",
       "\n",
       "    .dataframe tbody tr th {\n",
       "        vertical-align: top;\n",
       "    }\n",
       "\n",
       "    .dataframe thead th {\n",
       "        text-align: right;\n",
       "    }\n",
       "</style>\n",
       "<table border=\"1\" class=\"dataframe\">\n",
       "  <thead>\n",
       "    <tr style=\"text-align: right;\">\n",
       "      <th></th>\n",
       "      <th>admission_type_id</th>\n",
       "      <th>discharge_disposition_id</th>\n",
       "      <th>admission_source_id</th>\n",
       "      <th>time_in_hospital</th>\n",
       "      <th>num_lab_procedures</th>\n",
       "      <th>num_procedures</th>\n",
       "      <th>num_medications</th>\n",
       "      <th>number_outpatient</th>\n",
       "      <th>number_emergency</th>\n",
       "      <th>number_inpatient</th>\n",
       "      <th>number_diagnoses</th>\n",
       "    </tr>\n",
       "  </thead>\n",
       "  <tbody>\n",
       "    <tr>\n",
       "      <th>admission_type_id</th>\n",
       "      <td>1.000000</td>\n",
       "      <td>0.094989</td>\n",
       "      <td>0.206046</td>\n",
       "      <td>-0.021027</td>\n",
       "      <td>-0.156627</td>\n",
       "      <td>0.102511</td>\n",
       "      <td>0.094643</td>\n",
       "      <td>0.062126</td>\n",
       "      <td>-0.005000</td>\n",
       "      <td>-0.033084</td>\n",
       "      <td>-0.093156</td>\n",
       "    </tr>\n",
       "    <tr>\n",
       "      <th>discharge_disposition_id</th>\n",
       "      <td>0.094989</td>\n",
       "      <td>1.000000</td>\n",
       "      <td>0.016330</td>\n",
       "      <td>0.157960</td>\n",
       "      <td>0.004132</td>\n",
       "      <td>0.017667</td>\n",
       "      <td>0.113736</td>\n",
       "      <td>-0.015012</td>\n",
       "      <td>-0.026731</td>\n",
       "      <td>0.016869</td>\n",
       "      <td>0.052893</td>\n",
       "    </tr>\n",
       "    <tr>\n",
       "      <th>admission_source_id</th>\n",
       "      <td>0.206046</td>\n",
       "      <td>0.016330</td>\n",
       "      <td>1.000000</td>\n",
       "      <td>-0.016140</td>\n",
       "      <td>-0.016498</td>\n",
       "      <td>-0.135859</td>\n",
       "      <td>-0.041585</td>\n",
       "      <td>0.070056</td>\n",
       "      <td>0.082318</td>\n",
       "      <td>0.036220</td>\n",
       "      <td>0.077672</td>\n",
       "    </tr>\n",
       "    <tr>\n",
       "      <th>time_in_hospital</th>\n",
       "      <td>-0.021027</td>\n",
       "      <td>0.157960</td>\n",
       "      <td>-0.016140</td>\n",
       "      <td>1.000000</td>\n",
       "      <td>0.285330</td>\n",
       "      <td>0.203993</td>\n",
       "      <td>0.464585</td>\n",
       "      <td>-0.015432</td>\n",
       "      <td>-0.017524</td>\n",
       "      <td>0.078187</td>\n",
       "      <td>0.237663</td>\n",
       "    </tr>\n",
       "    <tr>\n",
       "      <th>num_lab_procedures</th>\n",
       "      <td>-0.156627</td>\n",
       "      <td>0.004132</td>\n",
       "      <td>-0.016498</td>\n",
       "      <td>0.285330</td>\n",
       "      <td>1.000000</td>\n",
       "      <td>0.068775</td>\n",
       "      <td>0.239190</td>\n",
       "      <td>-0.015064</td>\n",
       "      <td>-0.015885</td>\n",
       "      <td>0.046696</td>\n",
       "      <td>0.133315</td>\n",
       "    </tr>\n",
       "    <tr>\n",
       "      <th>num_procedures</th>\n",
       "      <td>0.102511</td>\n",
       "      <td>0.017667</td>\n",
       "      <td>-0.135859</td>\n",
       "      <td>0.203993</td>\n",
       "      <td>0.068775</td>\n",
       "      <td>1.000000</td>\n",
       "      <td>0.401460</td>\n",
       "      <td>-0.018922</td>\n",
       "      <td>-0.040602</td>\n",
       "      <td>-0.063190</td>\n",
       "      <td>0.082361</td>\n",
       "    </tr>\n",
       "    <tr>\n",
       "      <th>num_medications</th>\n",
       "      <td>0.094643</td>\n",
       "      <td>0.113736</td>\n",
       "      <td>-0.041585</td>\n",
       "      <td>0.464585</td>\n",
       "      <td>0.239190</td>\n",
       "      <td>0.401460</td>\n",
       "      <td>1.000000</td>\n",
       "      <td>0.039892</td>\n",
       "      <td>0.012614</td>\n",
       "      <td>0.058819</td>\n",
       "      <td>0.240678</td>\n",
       "    </tr>\n",
       "    <tr>\n",
       "      <th>number_outpatient</th>\n",
       "      <td>0.062126</td>\n",
       "      <td>-0.015012</td>\n",
       "      <td>0.070056</td>\n",
       "      <td>-0.015432</td>\n",
       "      <td>-0.015064</td>\n",
       "      <td>-0.018922</td>\n",
       "      <td>0.039892</td>\n",
       "      <td>1.000000</td>\n",
       "      <td>0.115601</td>\n",
       "      <td>0.103822</td>\n",
       "      <td>0.094555</td>\n",
       "    </tr>\n",
       "    <tr>\n",
       "      <th>number_emergency</th>\n",
       "      <td>-0.005000</td>\n",
       "      <td>-0.026731</td>\n",
       "      <td>0.082318</td>\n",
       "      <td>-0.017524</td>\n",
       "      <td>-0.015885</td>\n",
       "      <td>-0.040602</td>\n",
       "      <td>0.012614</td>\n",
       "      <td>0.115601</td>\n",
       "      <td>1.000000</td>\n",
       "      <td>0.256232</td>\n",
       "      <td>0.051257</td>\n",
       "    </tr>\n",
       "    <tr>\n",
       "      <th>number_inpatient</th>\n",
       "      <td>-0.033084</td>\n",
       "      <td>0.016869</td>\n",
       "      <td>0.036220</td>\n",
       "      <td>0.078187</td>\n",
       "      <td>0.046696</td>\n",
       "      <td>-0.063190</td>\n",
       "      <td>0.058819</td>\n",
       "      <td>0.103822</td>\n",
       "      <td>0.256232</td>\n",
       "      <td>1.000000</td>\n",
       "      <td>0.111181</td>\n",
       "    </tr>\n",
       "    <tr>\n",
       "      <th>number_diagnoses</th>\n",
       "      <td>-0.093156</td>\n",
       "      <td>0.052893</td>\n",
       "      <td>0.077672</td>\n",
       "      <td>0.237663</td>\n",
       "      <td>0.133315</td>\n",
       "      <td>0.082361</td>\n",
       "      <td>0.240678</td>\n",
       "      <td>0.094555</td>\n",
       "      <td>0.051257</td>\n",
       "      <td>0.111181</td>\n",
       "      <td>1.000000</td>\n",
       "    </tr>\n",
       "  </tbody>\n",
       "</table>\n",
       "</div>"
      ],
      "text/plain": [
       "                          admission_type_id  discharge_disposition_id  \\\n",
       "admission_type_id                  1.000000                  0.094989   \n",
       "discharge_disposition_id           0.094989                  1.000000   \n",
       "admission_source_id                0.206046                  0.016330   \n",
       "time_in_hospital                  -0.021027                  0.157960   \n",
       "num_lab_procedures                -0.156627                  0.004132   \n",
       "num_procedures                     0.102511                  0.017667   \n",
       "num_medications                    0.094643                  0.113736   \n",
       "number_outpatient                  0.062126                 -0.015012   \n",
       "number_emergency                  -0.005000                 -0.026731   \n",
       "number_inpatient                  -0.033084                  0.016869   \n",
       "number_diagnoses                  -0.093156                  0.052893   \n",
       "\n",
       "                          admission_source_id  time_in_hospital  \\\n",
       "admission_type_id                    0.206046         -0.021027   \n",
       "discharge_disposition_id             0.016330          0.157960   \n",
       "admission_source_id                  1.000000         -0.016140   \n",
       "time_in_hospital                    -0.016140          1.000000   \n",
       "num_lab_procedures                  -0.016498          0.285330   \n",
       "num_procedures                      -0.135859          0.203993   \n",
       "num_medications                     -0.041585          0.464585   \n",
       "number_outpatient                    0.070056         -0.015432   \n",
       "number_emergency                     0.082318         -0.017524   \n",
       "number_inpatient                     0.036220          0.078187   \n",
       "number_diagnoses                     0.077672          0.237663   \n",
       "\n",
       "                          num_lab_procedures  num_procedures  num_medications  \\\n",
       "admission_type_id                  -0.156627        0.102511         0.094643   \n",
       "discharge_disposition_id            0.004132        0.017667         0.113736   \n",
       "admission_source_id                -0.016498       -0.135859        -0.041585   \n",
       "time_in_hospital                    0.285330        0.203993         0.464585   \n",
       "num_lab_procedures                  1.000000        0.068775         0.239190   \n",
       "num_procedures                      0.068775        1.000000         0.401460   \n",
       "num_medications                     0.239190        0.401460         1.000000   \n",
       "number_outpatient                  -0.015064       -0.018922         0.039892   \n",
       "number_emergency                   -0.015885       -0.040602         0.012614   \n",
       "number_inpatient                    0.046696       -0.063190         0.058819   \n",
       "number_diagnoses                    0.133315        0.082361         0.240678   \n",
       "\n",
       "                          number_outpatient  number_emergency  \\\n",
       "admission_type_id                  0.062126         -0.005000   \n",
       "discharge_disposition_id          -0.015012         -0.026731   \n",
       "admission_source_id                0.070056          0.082318   \n",
       "time_in_hospital                  -0.015432         -0.017524   \n",
       "num_lab_procedures                -0.015064         -0.015885   \n",
       "num_procedures                    -0.018922         -0.040602   \n",
       "num_medications                    0.039892          0.012614   \n",
       "number_outpatient                  1.000000          0.115601   \n",
       "number_emergency                   0.115601          1.000000   \n",
       "number_inpatient                   0.103822          0.256232   \n",
       "number_diagnoses                   0.094555          0.051257   \n",
       "\n",
       "                          number_inpatient  number_diagnoses  \n",
       "admission_type_id                -0.033084         -0.093156  \n",
       "discharge_disposition_id          0.016869          0.052893  \n",
       "admission_source_id               0.036220          0.077672  \n",
       "time_in_hospital                  0.078187          0.237663  \n",
       "num_lab_procedures                0.046696          0.133315  \n",
       "num_procedures                   -0.063190          0.082361  \n",
       "num_medications                   0.058819          0.240678  \n",
       "number_outpatient                 0.103822          0.094555  \n",
       "number_emergency                  0.256232          0.051257  \n",
       "number_inpatient                  1.000000          0.111181  \n",
       "number_diagnoses                  0.111181          1.000000  "
      ]
     },
     "execution_count": 18,
     "metadata": {},
     "output_type": "execute_result"
    }
   ],
   "source": [
    "cor=df_numeric.corr()\n",
    "cor"
   ]
  },
  {
   "cell_type": "code",
   "execution_count": 19,
   "id": "caf4b7ea",
   "metadata": {
    "ExecuteTime": {
     "end_time": "2022-07-21T20:16:18.755026Z",
     "start_time": "2022-07-21T20:15:55.211301Z"
    }
   },
   "outputs": [
    {
     "data": {
      "image/png": "[encoded data removed]",
      "text/plain": [
       "<Figure size 1008x504 with 2 Axes>"
      ]
     },
     "metadata": {
      "needs_background": "light"
     },
     "output_type": "display_data"
    }
   ],
   "source": [
    "import seaborn as sns\n",
    "import matplotlib.pyplot as plt\n",
    "\n",
    "plt.figure(figsize=(14,7))\n",
    "sns.heatmap(cor,annot=True)\n",
    "plt.show()"
   ]
  },
  {
   "cell_type": "markdown",
   "id": "29ff8136",
   "metadata": {},
   "source": [
    "### Label Encoding"
   ]
  },
  {
   "cell_type": "code",
   "execution_count": 20,
   "id": "a5c31c66",
   "metadata": {
    "ExecuteTime": {
     "end_time": "2022-07-21T20:22:28.868339Z",
     "start_time": "2022-07-21T20:22:25.580090Z"
    }
   },
   "outputs": [
    {
     "data": {
      "text/plain": [
       "1    0.665327\n",
       "0    0.334673\n",
       "Name: diabatic, dtype: float64"
      ]
     },
     "execution_count": 20,
     "metadata": {},
     "output_type": "execute_result"
    }
   ],
   "source": [
    "from sklearn.preprocessing import LabelEncoder\n",
    "\n",
    "label=LabelEncoder()\n",
    "df['diabatic']=label.fit_transform(df['diabatic'])\n",
    "df.diabatic.value_counts(normalize=True)"
   ]
  },
  {
   "cell_type": "code",
   "execution_count": 23,
   "id": "70c9707d",
   "metadata": {
    "ExecuteTime": {
     "end_time": "2022-07-21T20:27:00.140205Z",
     "start_time": "2022-07-21T20:26:59.998008Z"
    }
   },
   "outputs": [],
   "source": [
    "df['race'] = label.fit_transform(df['race'])\n",
    "df['gender'] = label.fit_transform(df['gender'])\n",
    "df['age'] = label.fit_transform(df['age'])\n",
    "df['change'] = label.fit_transform(df['change'])"
   ]
  },
  {
   "cell_type": "code",
   "execution_count": 24,
   "id": "daf1338d",
   "metadata": {
    "ExecuteTime": {
     "end_time": "2022-07-21T20:27:01.524624Z",
     "start_time": "2022-07-21T20:27:01.410013Z"
    },
    "scrolled": true
   },
   "outputs": [
    {
     "data": {
      "text/html": [
       "<div>\n",
       "<style scoped>\n",
       "    .dataframe tbody tr th:only-of-type {\n",
       "        vertical-align: middle;\n",
       "    }\n",
       "\n",
       "    .dataframe tbody tr th {\n",
       "        vertical-align: top;\n",
       "    }\n",
       "\n",
       "    .dataframe thead th {\n",
       "        text-align: right;\n",
       "    }\n",
       "</style>\n",
       "<table border=\"1\" class=\"dataframe\">\n",
       "  <thead>\n",
       "    <tr style=\"text-align: right;\">\n",
       "      <th></th>\n",
       "      <th>race</th>\n",
       "      <th>gender</th>\n",
       "      <th>age</th>\n",
       "      <th>admission_type_id</th>\n",
       "      <th>discharge_disposition_id</th>\n",
       "      <th>admission_source_id</th>\n",
       "      <th>time_in_hospital</th>\n",
       "      <th>num_lab_procedures</th>\n",
       "      <th>num_procedures</th>\n",
       "      <th>num_medications</th>\n",
       "      <th>number_outpatient</th>\n",
       "      <th>number_emergency</th>\n",
       "      <th>number_inpatient</th>\n",
       "      <th>number_diagnoses</th>\n",
       "      <th>change</th>\n",
       "    </tr>\n",
       "  </thead>\n",
       "  <tbody>\n",
       "    <tr>\n",
       "      <th>0</th>\n",
       "      <td>2</td>\n",
       "      <td>0</td>\n",
       "      <td>0</td>\n",
       "      <td>6</td>\n",
       "      <td>25</td>\n",
       "      <td>1</td>\n",
       "      <td>1</td>\n",
       "      <td>41</td>\n",
       "      <td>0</td>\n",
       "      <td>1</td>\n",
       "      <td>0</td>\n",
       "      <td>0</td>\n",
       "      <td>0</td>\n",
       "      <td>1</td>\n",
       "      <td>1</td>\n",
       "    </tr>\n",
       "    <tr>\n",
       "      <th>1</th>\n",
       "      <td>2</td>\n",
       "      <td>0</td>\n",
       "      <td>1</td>\n",
       "      <td>1</td>\n",
       "      <td>1</td>\n",
       "      <td>7</td>\n",
       "      <td>3</td>\n",
       "      <td>59</td>\n",
       "      <td>0</td>\n",
       "      <td>18</td>\n",
       "      <td>0</td>\n",
       "      <td>0</td>\n",
       "      <td>0</td>\n",
       "      <td>9</td>\n",
       "      <td>0</td>\n",
       "    </tr>\n",
       "    <tr>\n",
       "      <th>2</th>\n",
       "      <td>0</td>\n",
       "      <td>0</td>\n",
       "      <td>2</td>\n",
       "      <td>1</td>\n",
       "      <td>1</td>\n",
       "      <td>7</td>\n",
       "      <td>2</td>\n",
       "      <td>11</td>\n",
       "      <td>5</td>\n",
       "      <td>13</td>\n",
       "      <td>2</td>\n",
       "      <td>0</td>\n",
       "      <td>1</td>\n",
       "      <td>6</td>\n",
       "      <td>1</td>\n",
       "    </tr>\n",
       "    <tr>\n",
       "      <th>3</th>\n",
       "      <td>2</td>\n",
       "      <td>1</td>\n",
       "      <td>3</td>\n",
       "      <td>1</td>\n",
       "      <td>1</td>\n",
       "      <td>7</td>\n",
       "      <td>2</td>\n",
       "      <td>44</td>\n",
       "      <td>1</td>\n",
       "      <td>16</td>\n",
       "      <td>0</td>\n",
       "      <td>0</td>\n",
       "      <td>0</td>\n",
       "      <td>7</td>\n",
       "      <td>0</td>\n",
       "    </tr>\n",
       "    <tr>\n",
       "      <th>4</th>\n",
       "      <td>2</td>\n",
       "      <td>1</td>\n",
       "      <td>4</td>\n",
       "      <td>1</td>\n",
       "      <td>1</td>\n",
       "      <td>7</td>\n",
       "      <td>1</td>\n",
       "      <td>51</td>\n",
       "      <td>0</td>\n",
       "      <td>8</td>\n",
       "      <td>0</td>\n",
       "      <td>0</td>\n",
       "      <td>0</td>\n",
       "      <td>5</td>\n",
       "      <td>0</td>\n",
       "    </tr>\n",
       "    <tr>\n",
       "      <th>...</th>\n",
       "      <td>...</td>\n",
       "      <td>...</td>\n",
       "      <td>...</td>\n",
       "      <td>...</td>\n",
       "      <td>...</td>\n",
       "      <td>...</td>\n",
       "      <td>...</td>\n",
       "      <td>...</td>\n",
       "      <td>...</td>\n",
       "      <td>...</td>\n",
       "      <td>...</td>\n",
       "      <td>...</td>\n",
       "      <td>...</td>\n",
       "      <td>...</td>\n",
       "      <td>...</td>\n",
       "    </tr>\n",
       "    <tr>\n",
       "      <th>70174</th>\n",
       "      <td>2</td>\n",
       "      <td>0</td>\n",
       "      <td>8</td>\n",
       "      <td>1</td>\n",
       "      <td>3</td>\n",
       "      <td>7</td>\n",
       "      <td>4</td>\n",
       "      <td>44</td>\n",
       "      <td>0</td>\n",
       "      <td>17</td>\n",
       "      <td>0</td>\n",
       "      <td>0</td>\n",
       "      <td>2</td>\n",
       "      <td>9</td>\n",
       "      <td>1</td>\n",
       "    </tr>\n",
       "    <tr>\n",
       "      <th>70175</th>\n",
       "      <td>0</td>\n",
       "      <td>0</td>\n",
       "      <td>8</td>\n",
       "      <td>1</td>\n",
       "      <td>3</td>\n",
       "      <td>7</td>\n",
       "      <td>7</td>\n",
       "      <td>60</td>\n",
       "      <td>0</td>\n",
       "      <td>17</td>\n",
       "      <td>0</td>\n",
       "      <td>1</td>\n",
       "      <td>1</td>\n",
       "      <td>9</td>\n",
       "      <td>1</td>\n",
       "    </tr>\n",
       "    <tr>\n",
       "      <th>70176</th>\n",
       "      <td>0</td>\n",
       "      <td>0</td>\n",
       "      <td>7</td>\n",
       "      <td>1</td>\n",
       "      <td>1</td>\n",
       "      <td>7</td>\n",
       "      <td>3</td>\n",
       "      <td>57</td>\n",
       "      <td>4</td>\n",
       "      <td>11</td>\n",
       "      <td>0</td>\n",
       "      <td>0</td>\n",
       "      <td>1</td>\n",
       "      <td>9</td>\n",
       "      <td>1</td>\n",
       "    </tr>\n",
       "    <tr>\n",
       "      <th>70177</th>\n",
       "      <td>0</td>\n",
       "      <td>1</td>\n",
       "      <td>9</td>\n",
       "      <td>1</td>\n",
       "      <td>3</td>\n",
       "      <td>7</td>\n",
       "      <td>4</td>\n",
       "      <td>21</td>\n",
       "      <td>1</td>\n",
       "      <td>8</td>\n",
       "      <td>0</td>\n",
       "      <td>0</td>\n",
       "      <td>1</td>\n",
       "      <td>9</td>\n",
       "      <td>1</td>\n",
       "    </tr>\n",
       "    <tr>\n",
       "      <th>70179</th>\n",
       "      <td>2</td>\n",
       "      <td>1</td>\n",
       "      <td>7</td>\n",
       "      <td>1</td>\n",
       "      <td>1</td>\n",
       "      <td>7</td>\n",
       "      <td>6</td>\n",
       "      <td>13</td>\n",
       "      <td>3</td>\n",
       "      <td>3</td>\n",
       "      <td>0</td>\n",
       "      <td>0</td>\n",
       "      <td>0</td>\n",
       "      <td>9</td>\n",
       "      <td>1</td>\n",
       "    </tr>\n",
       "  </tbody>\n",
       "</table>\n",
       "<p>68697 rows × 15 columns</p>\n",
       "</div>"
      ],
      "text/plain": [
       "       race  gender  age  admission_type_id  discharge_disposition_id  \\\n",
       "0         2       0    0                  6                        25   \n",
       "1         2       0    1                  1                         1   \n",
       "2         0       0    2                  1                         1   \n",
       "3         2       1    3                  1                         1   \n",
       "4         2       1    4                  1                         1   \n",
       "...     ...     ...  ...                ...                       ...   \n",
       "70174     2       0    8                  1                         3   \n",
       "70175     0       0    8                  1                         3   \n",
       "70176     0       0    7                  1                         1   \n",
       "70177     0       1    9                  1                         3   \n",
       "70179     2       1    7                  1                         1   \n",
       "\n",
       "       admission_source_id  time_in_hospital  num_lab_procedures  \\\n",
       "0                        1                 1                  41   \n",
       "1                        7                 3                  59   \n",
       "2                        7                 2                  11   \n",
       "3                        7                 2                  44   \n",
       "4                        7                 1                  51   \n",
       "...                    ...               ...                 ...   \n",
       "70174                    7                 4                  44   \n",
       "70175                    7                 7                  60   \n",
       "70176                    7                 3                  57   \n",
       "70177                    7                 4                  21   \n",
       "70179                    7                 6                  13   \n",
       "\n",
       "       num_procedures  num_medications  number_outpatient  number_emergency  \\\n",
       "0                   0                1                  0                 0   \n",
       "1                   0               18                  0                 0   \n",
       "2                   5               13                  2                 0   \n",
       "3                   1               16                  0                 0   \n",
       "4                   0                8                  0                 0   \n",
       "...               ...              ...                ...               ...   \n",
       "70174               0               17                  0                 0   \n",
       "70175               0               17                  0                 1   \n",
       "70176               4               11                  0                 0   \n",
       "70177               1                8                  0                 0   \n",
       "70179               3                3                  0                 0   \n",
       "\n",
       "       number_inpatient  number_diagnoses  change  \n",
       "0                     0                 1       1  \n",
       "1                     0                 9       0  \n",
       "2                     1                 6       1  \n",
       "3                     0                 7       0  \n",
       "4                     0                 5       0  \n",
       "...                 ...               ...     ...  \n",
       "70174                 2                 9       1  \n",
       "70175                 1                 9       1  \n",
       "70176                 1                 9       1  \n",
       "70177                 1                 9       1  \n",
       "70179                 0                 9       1  \n",
       "\n",
       "[68697 rows x 15 columns]"
      ]
     },
     "execution_count": 24,
     "metadata": {},
     "output_type": "execute_result"
    }
   ],
   "source": [
    "x=df.iloc[:,:-1]\n",
    "x"
   ]
  },
  {
   "cell_type": "code",
   "execution_count": 26,
   "id": "53077dec",
   "metadata": {
    "ExecuteTime": {
     "end_time": "2022-07-21T20:27:45.483615Z",
     "start_time": "2022-07-21T20:27:45.460624Z"
    }
   },
   "outputs": [
    {
     "data": {
      "text/html": [
       "<div>\n",
       "<style scoped>\n",
       "    .dataframe tbody tr th:only-of-type {\n",
       "        vertical-align: middle;\n",
       "    }\n",
       "\n",
       "    .dataframe tbody tr th {\n",
       "        vertical-align: top;\n",
       "    }\n",
       "\n",
       "    .dataframe thead th {\n",
       "        text-align: right;\n",
       "    }\n",
       "</style>\n",
       "<table border=\"1\" class=\"dataframe\">\n",
       "  <thead>\n",
       "    <tr style=\"text-align: right;\">\n",
       "      <th></th>\n",
       "      <th>diabatic</th>\n",
       "    </tr>\n",
       "  </thead>\n",
       "  <tbody>\n",
       "    <tr>\n",
       "      <th>0</th>\n",
       "      <td>0</td>\n",
       "    </tr>\n",
       "    <tr>\n",
       "      <th>1</th>\n",
       "      <td>1</td>\n",
       "    </tr>\n",
       "    <tr>\n",
       "      <th>2</th>\n",
       "      <td>1</td>\n",
       "    </tr>\n",
       "    <tr>\n",
       "      <th>3</th>\n",
       "      <td>1</td>\n",
       "    </tr>\n",
       "    <tr>\n",
       "      <th>4</th>\n",
       "      <td>1</td>\n",
       "    </tr>\n",
       "    <tr>\n",
       "      <th>...</th>\n",
       "      <td>...</td>\n",
       "    </tr>\n",
       "    <tr>\n",
       "      <th>70174</th>\n",
       "      <td>0</td>\n",
       "    </tr>\n",
       "    <tr>\n",
       "      <th>70175</th>\n",
       "      <td>0</td>\n",
       "    </tr>\n",
       "    <tr>\n",
       "      <th>70176</th>\n",
       "      <td>0</td>\n",
       "    </tr>\n",
       "    <tr>\n",
       "      <th>70177</th>\n",
       "      <td>0</td>\n",
       "    </tr>\n",
       "    <tr>\n",
       "      <th>70179</th>\n",
       "      <td>0</td>\n",
       "    </tr>\n",
       "  </tbody>\n",
       "</table>\n",
       "<p>68697 rows × 1 columns</p>\n",
       "</div>"
      ],
      "text/plain": [
       "       diabatic\n",
       "0             0\n",
       "1             1\n",
       "2             1\n",
       "3             1\n",
       "4             1\n",
       "...         ...\n",
       "70174         0\n",
       "70175         0\n",
       "70176         0\n",
       "70177         0\n",
       "70179         0\n",
       "\n",
       "[68697 rows x 1 columns]"
      ]
     },
     "execution_count": 26,
     "metadata": {},
     "output_type": "execute_result"
    }
   ],
   "source": [
    "y=df.iloc[:,15:]\n",
    "y"
   ]
  },
  {
   "cell_type": "markdown",
   "id": "6f411d04",
   "metadata": {},
   "source": [
    "### Importing Decision Tree and RandomForest module"
   ]
  },
  {
   "cell_type": "code",
   "execution_count": 38,
   "id": "f4423681",
   "metadata": {
    "ExecuteTime": {
     "end_time": "2022-07-21T21:14:37.129161Z",
     "start_time": "2022-07-21T21:14:37.109173Z"
    }
   },
   "outputs": [],
   "source": [
    "from sklearn.tree import DecisionTreeClassifier\n",
    "from sklearn.model_selection import train_test_split\n",
    "from sklearn.metrics import accuracy_score,confusion_matrix"
   ]
  },
  {
   "cell_type": "code",
   "execution_count": 46,
   "id": "14d353a8",
   "metadata": {
    "ExecuteTime": {
     "end_time": "2022-07-21T21:18:22.918530Z",
     "start_time": "2022-07-21T21:18:22.898197Z"
    }
   },
   "outputs": [],
   "source": [
    "from sklearn.ensemble import RandomForestClassifier\n",
    "from sklearn.metrics import roc_auc_score"
   ]
  },
  {
   "cell_type": "markdown",
   "id": "2636f2f4",
   "metadata": {},
   "source": [
    "### Splitting data"
   ]
  },
  {
   "cell_type": "code",
   "execution_count": 39,
   "id": "cf9d0955",
   "metadata": {
    "ExecuteTime": {
     "end_time": "2022-07-21T21:14:37.488011Z",
     "start_time": "2022-07-21T21:14:37.436042Z"
    }
   },
   "outputs": [],
   "source": [
    "x_train,x_test,y_train,y_test=train_test_split(x,y,test_size=0.3,random_state=10)"
   ]
  },
  {
   "cell_type": "markdown",
   "id": "328bdfdf",
   "metadata": {},
   "source": [
    "### Applying Decision Tree"
   ]
  },
  {
   "cell_type": "code",
   "execution_count": 40,
   "id": "e4308a9f",
   "metadata": {
    "ExecuteTime": {
     "end_time": "2022-07-21T21:14:38.082126Z",
     "start_time": "2022-07-21T21:14:37.738339Z"
    }
   },
   "outputs": [
    {
     "data": {
      "text/plain": [
       "DecisionTreeClassifier()"
      ]
     },
     "execution_count": 40,
     "metadata": {},
     "output_type": "execute_result"
    }
   ],
   "source": [
    "model=DecisionTreeClassifier()\n",
    "\n",
    "model.fit(x_train,y_train)"
   ]
  },
  {
   "cell_type": "code",
   "execution_count": 41,
   "id": "bb134288",
   "metadata": {
    "ExecuteTime": {
     "end_time": "2022-07-21T21:14:38.113106Z",
     "start_time": "2022-07-21T21:14:38.087123Z"
    }
   },
   "outputs": [],
   "source": [
    "y_pred=model.predict(x_test)"
   ]
  },
  {
   "cell_type": "code",
   "execution_count": 42,
   "id": "93728976",
   "metadata": {
    "ExecuteTime": {
     "end_time": "2022-07-21T21:14:38.655963Z",
     "start_time": "2022-07-21T21:14:38.541589Z"
    }
   },
   "outputs": [
    {
     "data": {
      "text/plain": [
       "0.7128093158660844"
      ]
     },
     "execution_count": 42,
     "metadata": {},
     "output_type": "execute_result"
    }
   ],
   "source": [
    "accuracy_score(y_pred,y_test)"
   ]
  },
  {
   "cell_type": "markdown",
   "id": "a9333a94",
   "metadata": {},
   "source": [
    "### Confusion matrix on test data after decision tree"
   ]
  },
  {
   "cell_type": "code",
   "execution_count": 44,
   "id": "db4f8486",
   "metadata": {
    "ExecuteTime": {
     "end_time": "2022-07-21T21:16:25.963730Z",
     "start_time": "2022-07-21T21:16:25.479356Z"
    }
   },
   "outputs": [
    {
     "data": {
      "text/plain": [
       "<AxesSubplot:>"
      ]
     },
     "execution_count": 44,
     "metadata": {},
     "output_type": "execute_result"
    },
    {
     "data": {
      "image/png": "[encoded data removed]",
      "text/plain": [
       "<Figure size 432x288 with 2 Axes>"
      ]
     },
     "metadata": {
      "needs_background": "light"
     },
     "output_type": "display_data"
    }
   ],
   "source": [
    "sns.heatmap(confusion_matrix(y_test,model.predict(x_test)),annot=True)"
   ]
  },
  {
   "cell_type": "markdown",
   "id": "7085a28f",
   "metadata": {},
   "source": [
    "### Random Forest"
   ]
  },
  {
   "cell_type": "code",
   "execution_count": 47,
   "id": "818e9d5a",
   "metadata": {
    "ExecuteTime": {
     "end_time": "2022-07-21T21:22:07.869246Z",
     "start_time": "2022-07-21T21:22:06.089254Z"
    }
   },
   "outputs": [
    {
     "name": "stderr",
     "output_type": "stream",
     "text": [
      "C:\\Users\\gaurav-PC\\AppData\\Local\\Temp\\ipykernel_8816\\855496243.py:2: DataConversionWarning: A column-vector y was passed when a 1d array was expected. Please change the shape of y to (n_samples,), for example using ravel().\n",
      "  rf.fit(x_train,y_train)\n"
     ]
    },
    {
     "data": {
      "text/plain": [
       "RandomForestClassifier(max_depth=2, random_state=0)"
      ]
     },
     "execution_count": 47,
     "metadata": {},
     "output_type": "execute_result"
    }
   ],
   "source": [
    "rf = RandomForestClassifier(max_depth=2, random_state=0)\n",
    "rf.fit(x_train,y_train)"
   ]
  },
  {
   "cell_type": "code",
   "execution_count": 48,
   "id": "f39000e3",
   "metadata": {
    "ExecuteTime": {
     "end_time": "2022-07-21T21:24:53.218004Z",
     "start_time": "2022-07-21T21:24:52.963129Z"
    }
   },
   "outputs": [],
   "source": [
    "pred=rf.predict_proba(x_test)"
   ]
  },
  {
   "cell_type": "code",
   "execution_count": 50,
   "id": "4ec90436",
   "metadata": {
    "ExecuteTime": {
     "end_time": "2022-07-21T21:26:56.000127Z",
     "start_time": "2022-07-21T21:26:55.788989Z"
    }
   },
   "outputs": [],
   "source": [
    "from sklearn.metrics import roc_curve\n",
    "f,t,tr=roc_curve(y_test,pred[:,1],pos_label=1)\n",
    "random_probs=[0 for i in range(len(y_test))]\n",
    "pt,ptr,i=roc_curve(y_test,random_probs,pos_label=1)"
   ]
  },
  {
   "cell_type": "code",
   "execution_count": 52,
   "id": "d36c1a66",
   "metadata": {
    "ExecuteTime": {
     "end_time": "2022-07-21T21:27:37.793847Z",
     "start_time": "2022-07-21T21:27:37.579145Z"
    }
   },
   "outputs": [
    {
     "name": "stdout",
     "output_type": "stream",
     "text": [
      "0.8222483304950599\n"
     ]
    }
   ],
   "source": [
    "auc_score1=roc_auc_score(y_test,pred[:,1])\n",
    "print(auc_score1)"
   ]
  },
  {
   "cell_type": "markdown",
   "id": "f22d20b8",
   "metadata": {},
   "source": [
    "### Confusion matrix on test data after Random Forest"
   ]
  },
  {
   "cell_type": "code",
   "execution_count": 54,
   "id": "bc61eea2",
   "metadata": {
    "ExecuteTime": {
     "end_time": "2022-07-21T21:29:28.774757Z",
     "start_time": "2022-07-21T21:29:28.192114Z"
    }
   },
   "outputs": [
    {
     "data": {
      "text/plain": [
       "<AxesSubplot:>"
      ]
     },
     "execution_count": 54,
     "metadata": {},
     "output_type": "execute_result"
    },
    {
     "data": {
      "image/png": "[encoded data removed]",
      "text/plain": [
       "<Figure size 432x288 with 2 Axes>"
      ]
     },
     "metadata": {
      "needs_background": "light"
     },
     "output_type": "display_data"
    }
   ],
   "source": [
    "sns.heatmap(confusion_matrix(y_test,rf.predict(x_test)),annot=True)"
   ]
  },
  {
   "cell_type": "code",
   "execution_count": null,
   "id": "26a9fb47",
   "metadata": {},
   "outputs": [],
   "source": []
  }
 ],
 "metadata": {
  "kernelspec": {
   "display_name": "Python 3 (ipykernel)",
   "language": "python",
   "name": "python3"
  },
  "language_info": {
   "codemirror_mode": {
    "name": "ipython",
    "version": 3
   },
   "file_extension": ".py",
   "mimetype": "text/x-python",
   "name": "python",
   "nbconvert_exporter": "python",
   "pygments_lexer": "ipython3",
   "version": "3.9.12"
  },
  "latex_envs": {
   "LaTeX_envs_menu_present": true,
   "autoclose": false,
   "autocomplete": true,
   "bibliofile": "biblio.bib",
   "cite_by": "apalike",
   "current_citInitial": 1,
   "eqLabelWithNumbers": true,
   "eqNumInitial": 1,
   "hotkeys": {
    "equation": "Ctrl-E",
    "itemize": "Ctrl-I"
   },
   "labels_anchors": false,
   "latex_user_defs": false,
   "report_style_numbering": false,
   "user_envs_cfg": false
  },
  "toc": {
   "base_numbering": 1,
   "nav_menu": {},
   "number_sections": true,
   "sideBar": true,
   "skip_h1_title": false,
   "title_cell": "Table of Contents",
   "title_sidebar": "Contents",
   "toc_cell": false,
   "toc_position": {},
   "toc_section_display": true,
   "toc_window_display": false
  }
 },
 "nbformat": 4,
 "nbformat_minor": 5
}
